{
 "cells": [
  {
   "cell_type": "code",
   "execution_count": 97,
   "metadata": {},
   "outputs": [],
   "source": [
    "import numpy as np\n",
    "from matplotlib import pyplot as plt\n",
    "from numpy import linalg as LA\n",
    "import scipy.sparse as sp\n",
    "import scipy.sparse.linalg as SLA"
   ]
  },
  {
   "cell_type": "markdown",
   "metadata": {},
   "source": [
    "# HW3-Nonlinear 2-D problem with variable coefficients "
   ]
  },
  {
   "cell_type": "markdown",
   "metadata": {},
   "source": [
    "## Part0: Problem set"
   ]
  },
  {
   "cell_type": "markdown",
   "metadata": {},
   "source": [
    "Write a solver for the regularized $p$-Laplacian,\n",
    "$$ -\\nabla\\cdot\\big( \\kappa(\\nabla u) \\nabla u \\big) = 0 $$\n",
    "where\n",
    "$$ \\kappa(\\nabla u) = \\big(\\frac 1 2 \\epsilon^2 + \\frac 1 2 \\nabla u \\cdot \\nabla u \\big)^{\\frac{p-2}{2}}, $$\n",
    "$ \\epsilon > 0$, and $1 < p < \\infty$.  The case $p=2$ is the conventional Laplacian. This problem gets more strongly nonlinear when $p$ is far from 2 and when $\\epsilon$ approaches zero. The $p \\to 1$ limit is related to plasticity and has applications in non-Newtonion flows and structural mechanics.\n",
    "\n",
    "1. Implement a \"Picard\" solver, which is like a Newton solver except that the Jacobian is replaced by the linear system\n",
    "$$ J_{\\text{Picard}}(u) \\delta u \\sim -\\nabla\\cdot\\big( \\kappa(\\nabla u) \\nabla \\delta u \\big) . $$\n",
    "This is much easier to implement than the full Newton linearization.  How fast does this method converge for values of $p < 2$ and $p > 2$?\n",
    "\n",
    "* Use the linearization above as a preconditioner to a Newton-Krylov method.  That is, use [`scipy.sparse.linalg.LinearOperator`](https://docs.scipy.org/doc/scipy/reference/generated/scipy.sparse.linalg.LinearOperator.html) to apply the Jacobian to a vector\n",
    "$$ \\tilde J(u) v = \\frac{F(u + h v) - F(u)}{h} . $$\n",
    "Then for each linear solve, use [`scipy.sparse.linalg.gmres`](https://docs.scipy.org/doc/scipy/reference/generated/scipy.sparse.linalg.gmres.html) and pass as a preconditioner, a direct solve with the Picard linearization above. (You might find [`scipy.sparse.linalg.factorized`](https://docs.scipy.org/doc/scipy/reference/generated/scipy.sparse.linalg.factorized.html) to be useful. Compare algebraic convergence to that of the Picard method.\n",
    "\n",
    "* Can you directly implement a Newton linearization?  Either do it or explain what is involved.  How will its nonlinear convergence compare to that of the Newton-Krylov method?"
   ]
  },
  {
   "cell_type": "markdown",
   "metadata": {},
   "source": [
    "## Part1: Discretization and Differentiation"
   ]
  },
  {
   "cell_type": "markdown",
   "metadata": {},
   "source": [
    "In this problem, we consider the domain $\\Omega$ as: $$ \\Omega = (0, 1) \\times (0, 1) $$ and the homogeneous Dirichlet boundary conditions enforced on each side. The Residual as: $$F(u) = -\\nabla\\cdot\\big( \\kappa(\\nabla u) \\nabla u \\big) - f $$ Note that in order to make the iterative solver to work, the forcing term $f$ can not be set to zero.\n",
    "\n",
    "The nonlinear solver defined by the Picard linearization as:$$-\\nabla\\cdot\\big( \\kappa(\\nabla u) \\nabla \\delta u \\big) = -F(u)$$ \n",
    "\n",
    "$$u \\gets u + \\delta u$$ Firstly, we change $p$ from $2$ to the number away from 2 in order to see the change of convergence rate, then we also alter the $\\epsilon$ to observe how the solver works. $\\kappa$ in this problem is a function of $\\nabla u$, so we will choose more stencil points to evalute $\\kappa$.\n",
    "\n",
    "The discretization and differentiation of the equation as below and note that all the differentiations are in the second order accuracy."
   ]
  },
  {
   "cell_type": "code",
   "execution_count": 98,
   "metadata": {},
   "outputs": [
    {
     "name": "stdout",
     "output_type": "stream",
     "text": [
      " 0: anorm 1.000000e+00\n",
      " 1: anorm 6.293014e-02\n",
      " 2: anorm 2.186779e-03\n",
      " 3: anorm 7.387516e-05\n",
      " 4: anorm 2.028884e-06\n",
      " 5: anorm 5.112225e-08\n",
      " 6: anorm 1.225213e-09\n"
     ]
    },
    {
     "data": {
      "image/png": "[encoded data removed]",
      "text/plain": [
       "<Figure size 432x288 with 2 Axes>"
      ]
     },
     "metadata": {},
     "output_type": "display_data"
    }
   ],
   "source": [
    "'''The code in this homework refers to the code in FD2D and AlgebraicSolver notebook, and implementing the information in the problem setting'''\n",
    "def hgrid(h):         # this function computes the mesh info\n",
    "    m = int(1/h + 1)  # Number of grids point in each direction\n",
    "    h = 1/(m-1)       # actual grid size\n",
    "    c = np.linspace(0, 1, m)\n",
    "    y, x = np.meshgrid(c, c) # generating the grid points\n",
    "    return x, y\n",
    "\n",
    "def p_laplacian(id, h, x, y, eps, p ,u_0, rhs, g, dirichlet = ((),())):\n",
    "    '''h is the uniform grid size for both x and y direction, eps,p are the parameter of k,\n",
    "       u_0 is the initial guess, rhs is the forcing term which is 0 in this problem,\n",
    "       and consider dirichlet boundary conditions enforced on all sides'''\n",
    "# initializing stuff\n",
    "    m = x.shape[0]     # number of grids in each direction\n",
    "    g   =  g(x, y).flatten()   # compute Dirichlet array\n",
    "    F   = -rhs(x, y).flatten() # initialize the residual as -rhs\n",
    "    u_0 =  u_0.flatten()       # get initial guess array\n",
    "    ai = []                  # COO format_x_coordinate\n",
    "    aj = []                  # COO format_y_coordinate\n",
    "    av = []                  # COO_format_value of the entry\n",
    "    # the global index of points\n",
    "    def idx(i, j):\n",
    "        i = (m-1) - abs(m-1 - abs(i))\n",
    "        j = (m-1) - abs(m-1 - abs(j))\n",
    "        return i*m + j\n",
    "     # the trial array for dirichlet BC\n",
    "    mask = np.ones_like(x,dtype=bool) # decide if the point hits the Dirichlet boundary,if it is, assigning False value\n",
    "    mask[dirichlet[0],:] = False  \n",
    "    mask[:,dirichlet[1]] = False\n",
    "    mask = mask.flatten()\n",
    "    F[mask == False] = u_0[mask == False] - g[mask == False] # the residual vector at Dirichlet boundary, and this value tends to 0\n",
    "    u_0[mask == False] = g[mask == False]  # replace the location of initial guess where lives in the dirichlet boundary\n",
    "\n",
    "    # Looping over the grids\n",
    "    for i in range(m):\n",
    "        for j in range(m):\n",
    "            row = idx(i, j)\n",
    "            #this time we have to put a 9-point stencil to compute kappa and 5-point stencil to compute flux\n",
    "            stencili_k   = np.array([idx(*pair) for pair in [(i-1, j+1), (i-1, j), (i-1, j-1), \n",
    "                                         (i, j-1), (i, j), (i,j+1), (i+1,j+1), (i+1,j), (i+1,j-1)]])\n",
    "\n",
    "            stencili     = np.array([idx(*pair) for pair in [(i-1, j), (i, j-1), (i, j),(i,j+1),(i+1,j)]])\n",
    "            div = np.array([-1, -1, 1, 1]) / h\n",
    "\n",
    "\n",
    "            # compute grad of u w.r.t to x\n",
    "            grad_kx   = np.array([[0, -1, 0, 0, 0, 0, 0, 1, 0],         # stag_1  L\n",
    "                                [0, -1/2, -1/2, 0, 0, 0, 0, 1/2, 1/2],  # stag_2  D\n",
    "                                [-1/2, -1/2, 0, 0, 0, 0, 1/2, 1/2, 0],  # stag_3  T\n",
    "                                [0, -1, 0, 0, 0, 0, 0, 1, 0]])/2/h      # stag_4  R\n",
    "\n",
    "            # compute grad of u w.r.t to y\n",
    "            grad_ky   = np.array([[1/2, 0, -1/2, -1/2, 0, 1/2, 0, 0, 0], # stag_1  L\n",
    "                                [0, 0, 0, -1, 0, 1, 0, 0, 0],            # stag_2  D\n",
    "                                [0, 0, 0, -1, 0, 1, 0, 0, 0],            # stag_3  T\n",
    "                                [0, 0, 0, -1/2, 0, 1/2, 1/2, 0, -1/2]])/2/h # stag_4  R\n",
    "\n",
    "            # Stencil to evaluate gradient at four staggered points\n",
    "            grad = np.array([[-1, 0, 1, 0, 0],                  # stag_1  L\n",
    "                            [0, -1, 1, 0, 0],                   # stag_2  D\n",
    "                            [0, 0, -1, 1, 0],                   # stag_3  T\n",
    "                            [0, 0, -1, 0, 1]]) / h              # stag_4  R\n",
    "\n",
    "\n",
    "            #compute the full gradient\n",
    "            grad_k   = grad_kx + grad_ky # the full grad for each staggered point\n",
    "            ustencil_k        = u_0[stencili_k]     # our nine points\n",
    "            stgu = grad_k @ ustencil_k       # our grad(u) at 4 staggered points\n",
    "            kappa = ((0.5*eps**2+0.5*stgu**2)**(p/2-1)) \n",
    "\n",
    "\n",
    "            if mask[row] == 0: # Dirichlet boundary\n",
    "                ai.append(row)\n",
    "                aj.append(row)\n",
    "                av.append(1) # value the diag to 1, for the location in Dirichlet Boundary\n",
    "            else:\n",
    "                ustencil = u_0[stencili]   # our five point stencil\n",
    "\n",
    "                F[row] -= div @ (kappa[:,None] * grad @ ustencil) #update residual on the rhs\n",
    "                if id ==0:  #the jacobian operator based on the picard solver\n",
    "                    Jstencil = -div @ (kappa[:,None] * grad)               \n",
    "                if id ==1:  #the jacobian operator based on the Newton solver\n",
    "                    Jstencil = -div @ (kappa[:,None] * grad + ((p-2)/2*((0.5*eps**2+ (stgu)**2)**((p-4)/2))[:,None]* (grad @ ustencil)) * stgu @ grad)          \n",
    "                # start to form the J opeartor\n",
    "                smask = mask[stencili]\n",
    "                ai += [row]*sum(smask)\n",
    "                aj += stencili[smask].tolist()\n",
    "                av += Jstencil[smask].tolist()\n",
    "\n",
    "    J = sp.csr_matrix((av, (ai, aj)), shape=(m*m,m*m))\n",
    "    return F, J\n",
    "\n",
    "def iter_test(id, eps, p, h, g, dirichlet, atol=1e-8, verbose=False):      # our iterative solver\n",
    "    x, y = hgrid(h)\n",
    "    u_0 = 0*x                    # the initial guess\n",
    "    for i in range(50):          #maximum iterations\n",
    "        F, J = p_laplacian(id, h, x, y, eps, p, u_0, lambda x,y: 0*x+1,\n",
    "                           g=g,  dirichlet=dirichlet)\n",
    "        anorm = LA.norm(F, np.inf)\n",
    "        if verbose:\n",
    "            print('{:2d}: anorm {:8e}'.format(i,anorm))\n",
    "        if anorm < atol:\n",
    "            break\n",
    "        deltau = SLA.spsolve(J, -F)\n",
    "        u_0 += deltau.reshape(x.shape)\n",
    "    return x, y, u_0, i\n",
    "\n",
    "x, y, u, i = iter_test(0, 1, 3, .1, lambda x,y: 0*x+0, dirichlet=((0,-1),(0,-1)),verbose=True)\n",
    "plt.contourf(x, y, u)\n",
    "plt.colorbar()\n",
    "plt.show()\n",
    "\n",
    "    "
   ]
  },
  {
   "cell_type": "markdown",
   "metadata": {},
   "source": [
    "From the figure above, we can see for for $\\epsilon = 1$, $p = 3$, and choose the grid size as $h = 0.1$, a nearly linear convergence rate is presented."
   ]
  },
  {
   "cell_type": "markdown",
   "metadata": {},
   "source": [
    "## Part2: The effect of p"
   ]
  },
  {
   "cell_type": "code",
   "execution_count": 99,
   "metadata": {},
   "outputs": [
    {
     "data": {
      "text/plain": [
       "Text(0,0.5,'number of iterations')"
      ]
     },
     "execution_count": 99,
     "metadata": {},
     "output_type": "execute_result"
    },
    {
     "data": {
      "image/png": "[encoded data removed]",
      "text/plain": [
       "<Figure size 432x288 with 1 Axes>"
      ]
     },
     "metadata": {},
     "output_type": "display_data"
    }
   ],
   "source": [
    "x = []     #value  of p\n",
    "y=  []     #number of iterations\n",
    "for p in range(0,101):\n",
    "    p = 1.02+0.02*p\n",
    "    x.append(p)\n",
    "    _, _, _, i = iter_test(0,1, p, .1, lambda x,y: 0*x+0, dirichlet=((0,-1),(0,-1)),verbose=False)\n",
    "    y.append(i)\n",
    "plt.plot(x,y,'*')\n",
    "plt.xlabel('p')\n",
    "plt.ylabel('number of iterations')\n"
   ]
  },
  {
   "cell_type": "markdown",
   "metadata": {},
   "source": [
    "From the figure above, we can see when the $p$ is away from 2, the number of steps used to converge in a given torlence tends to increase, and when $p = 2$, which is the conventional laplacian case, the fastest convergence rate is shown. Plus, for the smaller increment of p (0.02 in this case), the number of steps for a convergence shows the \"stepping\" phenomenon, which may show the p-laplacian's sensitivity to its power."
   ]
  },
  {
   "cell_type": "markdown",
   "metadata": {},
   "source": [
    "## Part3: The effect of $\\epsilon$"
   ]
  },
  {
   "cell_type": "code",
   "execution_count": 100,
   "metadata": {},
   "outputs": [
    {
     "data": {
      "text/plain": [
       "Text(0,0.5,'number of iterations')"
      ]
     },
     "execution_count": 100,
     "metadata": {},
     "output_type": "execute_result"
    },
    {
     "data": {
      "image/png": "[encoded data removed]",
      "text/plain": [
       "<Figure size 432x288 with 1 Axes>"
      ]
     },
     "metadata": {},
     "output_type": "display_data"
    }
   ],
   "source": [
    "x = []     #value  of eps\n",
    "y=  []     #number of iterations\n",
    "for eps in range(0,80):\n",
    "    eps = 0.05+0.05*eps\n",
    "    x.append(eps)\n",
    "    _, _, _, i = iter_test(0, eps, 3, .1, lambda x,y: 0*x+0, dirichlet=((0,-1),(0,-1)),verbose=False)\n",
    "    y.append(i)\n",
    "plt.plot(x,y,'*')\n",
    "plt.xlabel('$\\epsilon$')\n",
    "plt.ylabel('number of iterations')\n"
   ]
  },
  {
   "cell_type": "markdown",
   "metadata": {},
   "source": [
    "From the figure above, we can see when $\\epsilon$ is approaching to 0, the number of steps for a convergence surges, which means a lower convergence rate. Besides, for a fixed $p$, and when $\\epsilon$ is approximately larger than 2.5, we may assume no effect of $\\epsilon$ to the convergence rate."
   ]
  },
  {
   "cell_type": "markdown",
   "metadata": {},
   "source": [
    "## Part4: Newton-Krylov method with matrix-free Jacobian"
   ]
  },
  {
   "cell_type": "markdown",
   "metadata": {},
   "source": [
    "In this part, we are going to use Newton-Krylov method implement the gmres method, the grid size, and parameters of computing the residual are the same as the Picard method."
   ]
  },
  {
   "cell_type": "code",
   "execution_count": 101,
   "metadata": {},
   "outputs": [
    {
     "name": "stdout",
     "output_type": "stream",
     "text": [
      "Newton 0 anorm 2.60e-01 rnorm 2.89e-02\n",
      "Newton 1 anorm 4.66e-04 rnorm 5.18e-05\n",
      "Newton 2 anorm 1.11e-06 rnorm 1.23e-07\n",
      "Newton 3 anorm 4.45e-07 rnorm 4.94e-08\n",
      "Newton 4 anorm 2.62e-07 rnorm 2.91e-08\n",
      "Newton 5 anorm 1.82e-07 rnorm 2.02e-08\n",
      "Newton 6 anorm 1.38e-07 rnorm 1.54e-08\n",
      "Newton 7 anorm 1.13e-07 rnorm 1.25e-08\n",
      "Newton 8 anorm 9.59e-08 rnorm 1.07e-08\n",
      "Newton 9 anorm 8.46e-08 rnorm 9.40e-09\n"
     ]
    },
    {
     "data": {
      "image/png": "[encoded data removed]",
      "text/plain": [
       "<Figure size 432x288 with 2 Axes>"
      ]
     },
     "metadata": {},
     "output_type": "display_data"
    }
   ],
   "source": [
    "def NK_p_laplacian(h,x,y,eps,p,u0, epsilon=1e-8, rtol=1e-10, maxit=50, verbose=False):\n",
    "    '''h,x,y,eps,p,u0 are the data to compute the residual vector F(u) at some state variable u\n",
    "       epsilon is used in the Newton-Krylov method, maximum iteration = 50'''\n",
    "    u = u_0.copy()\n",
    "    # we use initial guess to compute initial residual vector\n",
    "    Fu, _ = p_laplacian(0,h, x, y, eps, p ,u_0, lambda x,y:  0*x+1, \n",
    "                        lambda x,y:  0*x , dirichlet = ((0,-1),(0,-1)))\n",
    "    # compute the norm of error of the initial residual vector\n",
    "    norm0 = LA.norm(Fu)\n",
    "    u = u.flatten()\n",
    "    \n",
    "    # compute the Jacobian function\n",
    "    for i in range(maxit):\n",
    "        # for all vector v, the jacobian operator will compute [F(u+ev)-F(u)]/e\n",
    "        def Ju_fd(v):\n",
    "            # the initial v is 0\n",
    "            F_e,_ = p_laplacian(0,h, x, y, eps, p ,(u+epsilon*v).reshape(x.shape), lambda x,y:  0*x+1, \n",
    "                        lambda x,y:  0*x , dirichlet = ((0,-1),(0,-1)))\n",
    "            return (F_e - Fu) / epsilon  # given a vector v, return an another vector\n",
    "        # the jacobian opeartor\n",
    "        Ju = SLA.LinearOperator(((len(Fu),len(u))), matvec=Ju_fd)  \n",
    "        du, info = SLA.gmres(Ju, Fu, atol=1.e-6)\n",
    "        \n",
    "        if info != 0:\n",
    "            print(LA.norm(Ju @ du - Fu), norm)\n",
    "            raise RuntimeError('GMRES failed to converge: {:d}'.format(info))\n",
    "        u -= du\n",
    "        Fu,_ = p_laplacian(0,h, x, y, eps, p ,u.reshape(x.shape), lambda x,y:  0*x+1, \n",
    "                        lambda x,y:  0*x , dirichlet = ((0,-1),(0,-1)))\n",
    "\n",
    "        norm = LA.norm(Fu)\n",
    "        if verbose:\n",
    "            print('Newton {:d} anorm {:6.2e} rnorm {:6.2e}'\n",
    "                  .format(i, norm, norm/norm0))\n",
    "        if norm < rtol * norm0:\n",
    "            break\n",
    "    return u, i\n",
    "\n",
    "\n",
    "h    = 0.1\n",
    "x,y  = hgrid(h) \n",
    "u_0  = 0*x\n",
    "eps  = 1\n",
    "p    = 3\n",
    "u_nk,num = NK_p_laplacian(h,x,y,eps,p,u_0, rtol=1e-8, verbose=True)\n",
    "\n",
    "plt.contourf(x, y, u_nk.reshape(x.shape))\n",
    "plt.colorbar()\n",
    "plt.show()\n",
    "\n"
   ]
  },
  {
   "cell_type": "markdown",
   "metadata": {},
   "source": [
    "Some interesting phenomenon occur in this case, \n",
    "\n",
    "1: If the absolute tolerance setting of the grmes function is less then $10^{-6}$, then the grmes solver fails to converge.\n",
    "\n",
    "2: The Newton-Krylov method tends to converge faster than the Picard solver in the first a few steps, but it becomes relatively slower when the computation proceeds.\n",
    "\n",
    "3: When the absolute tolerance reaches about $10^{-7}$, the accuracy of the Newton-Krylov method increses slowly, while the Picard solver can achieve more accuracy during each iteration."
   ]
  },
  {
   "cell_type": "markdown",
   "metadata": {},
   "source": [
    "## Part5: Newton linearization"
   ]
  },
  {
   "cell_type": "markdown",
   "metadata": {},
   "source": [
    "The only difference between the Newton linearization and the Picard linearization is the Jacobian stencil. For Picard's method, the $\\kappa$ is not differentiated with respect of u, while the Newton solver does that. In order to make a comparison with the two methods, we introduce an indicator $id$ in the former code, if $id = 0$, we compute the Picard solver, if $id = 1$, we compute the Newton linearization.\n",
    "\n",
    "In the symbolic way, we compute the Jacobian for Newton solver as:\n",
    "$$F(u) = -\\nabla\\cdot\\big( \\kappa(\\nabla u) \\nabla u \\big) - f $$ \n",
    "\n",
    "$$\\frac{dF(u)}{du} = -\\frac{\\nabla\\cdot\\big(d(\\kappa(\\nabla u)\\nabla u))}{du}$$\n",
    "\n",
    "$$\\frac{dF(u)}{du} = -\\nabla\\cdot((\\kappa\\nabla)+\\frac{d\\kappa}{du}\\nabla u)$$\n",
    "\n",
    "where in the p-laplacian setting:\n",
    "\n",
    "$$ \\kappa(\\nabla u) = \\big(\\frac 1 2 \\epsilon^2 + \\frac 1 2 \\nabla u \\cdot \\nabla u \\big)^{\\frac{p-2}{2}}, $$\n",
    "\n",
    "where in the code, $\\kappa = ((0.5eps^2+0.5stgu^2)^{(p/2-1))}$, so:\n",
    "\n",
    "$$\\frac{d\\kappa}{du} = \\frac{p-2}{2}(0.5eps^2+0.5stgu^2)^{\\frac{p-4}{2}}\\frac{dstgu}{du}$$ \n",
    "After implementing to the code, the convergence test as below:\n",
    "\n",
    "\n",
    "\n"
   ]
  },
  {
   "cell_type": "code",
   "execution_count": 102,
   "metadata": {},
   "outputs": [
    {
     "name": "stdout",
     "output_type": "stream",
     "text": [
      " 0: anorm 1.000000e+00\n",
      " 1: anorm 6.293014e-02\n",
      " 2: anorm 2.413306e-03\n",
      " 3: anorm 7.028249e-05\n",
      " 4: anorm 1.952157e-06\n",
      " 5: anorm 4.729247e-08\n",
      " 6: anorm 1.067534e-09\n"
     ]
    },
    {
     "data": {
      "image/png": "[encoded data removed]",
      "text/plain": [
       "<Figure size 432x288 with 2 Axes>"
      ]
     },
     "metadata": {},
     "output_type": "display_data"
    }
   ],
   "source": [
    "x, y, u, i = iter_test(1, 1, 3, .1, lambda x,y: 0*x+0, dirichlet=((0,-1),(0,-1)),verbose=True)\n",
    "plt.contourf(x, y, u)\n",
    "plt.colorbar()\n",
    "plt.show()"
   ]
  },
  {
   "cell_type": "markdown",
   "metadata": {},
   "source": [
    "From the result of the Newtwon linearization, we can see similar convergence rate as the Picard solver. Thus, when it comparing to the Newton-Krylov method, at first, the N-K method has a faster convergence, but in the end, the Newton solver gains more accuracy."
   ]
  }
 ],
 "metadata": {
  "kernelspec": {
   "display_name": "Python 3",
   "language": "python",
   "name": "python3"
  },
  "language_info": {
   "codemirror_mode": {
    "name": "ipython",
    "version": 3
   },
   "file_extension": ".py",
   "mimetype": "text/x-python",
   "name": "python",
   "nbconvert_exporter": "python",
   "pygments_lexer": "ipython3",
   "version": "3.6.5"
  }
 },
 "nbformat": 4,
 "nbformat_minor": 2
}
